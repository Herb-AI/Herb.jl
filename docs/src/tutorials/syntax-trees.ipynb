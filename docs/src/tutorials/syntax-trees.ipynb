{
 "cells": [
  {
   "cell_type": "markdown",
   "id": "adb6401d-97cf-4926-86d1-d93cd888cced",
   "metadata": {},
   "source": [
    "# Herb tutorial: Abstract syntax trees"
   ]
  },
  {
   "cell_type": "markdown",
   "id": "6aab945c-b81f-43f3-bcb3-36521ed3a50e",
   "metadata": {},
   "source": [
    "In this tutorial, you will learn\n",
    "    \n",
    "- How to represent a computer program as an abstract syntax tree  in Herb.\n",
    "- How to replace parts of the tree to modify the program."
   ]
  },
  {
   "cell_type": "markdown",
   "id": "56460a31-bfdd-4c33-8a2b-a0db1430477e",
   "metadata": {},
   "source": [
    "## Abstract syntax trees\n",
    "\n",
    "The syntactic structure of a computer program can be represented in a hierarchical tree structure, a so-called _Abstract Syntax Tree (AST)_. The syntax of a programming language is typically defined using a formal grammar, a set of rules on how valid programs can be constructed. ASTs are derived from the grammar, but are abstractions in the sense that they omit details such as parenthesis, semicolons, etc. and only retain what's necessary to capture the program structure. \n",
    "\n",
    "In the context of program synthesis, ASTs are often used to define the space of all possible programs which is searched to find one that satisfies the given specifications. During the search process, different ASTs, each corresponding to a different program, are generated and evaluated until a suitable one is found.\n",
    "\n",
    "Each _node_ of the AST represents a construct in the program (e.g., a variable, an operator, a statement, or a function) and this construct corresponds to a rule in the formal grammar. \n",
    "An _edge_ describes the relationship between constructs, and the tree structure captures the nesting of constructs. "
   ]
  },
  {
   "cell_type": "markdown",
   "id": "3f28908e-adcf-47ff-b369-556bc6e2dae4",
   "metadata": {},
   "source": [
    "## A simple example program\n",
    "\n",
    "We first consider the simple program 5*(x+3). We will define a grammar that is sufficient to represent this program and use it to construct a AST for our program."
   ]
  },
  {
   "cell_type": "markdown",
   "id": "4d6961c8-2fd5-4cd9-b4a1-166d46500aaa",
   "metadata": {},
   "source": [
    "### Define the grammar"
   ]
  },
  {
   "cell_type": "code",
   "execution_count": 1,
   "id": "69d543a7-3067-4376-b1bb-1a4f9217b786",
   "metadata": {},
   "outputs": [
    {
     "data": {
      "text/plain": [
       "1: Number = 0\n",
       "2: Number = 1\n",
       "3: Number = 2\n",
       "4: Number = 3\n",
       "5: Number = 4\n",
       "6: Number = 5\n",
       "7: Number = 6\n",
       "8: Number = 7\n",
       "9: Number = 8\n",
       "10: Number = 9\n",
       "11: Number = x\n",
       "12: Number = Number + Number\n",
       "13: Number = Number * Number\n"
      ]
     },
     "execution_count": 1,
     "metadata": {},
     "output_type": "execute_result"
    }
   ],
   "source": [
    "using HerbCore, HerbGrammar, HerbInterpret\n",
    "\n",
    "grammar = @csgrammar begin\n",
    "    Number = |(0:9)\n",
    "    Number = x\n",
    "    Number = Number + Number\n",
    "    Number = Number * Number\n",
    "end\n"
   ]
  },
  {
   "cell_type": "markdown",
   "id": "8de36f71-5051-4d1b-b725-c2a94fbe9119",
   "metadata": {},
   "source": [
    "### Construct the syntax tree"
   ]
  },
  {
   "cell_type": "markdown",
   "id": "33b9e13e-f444-496f-8931-56a87887ae9c",
   "metadata": {},
   "source": [
    "The AST of this program is shown in the diagram below. The number in each node refers to the index of the corresponding rule in our grammar. "
   ]
  },
  {
   "cell_type": "markdown",
   "id": "5578f49b-741b-4f4a-a660-ce5bb4673ea1",
   "metadata": {},
   "source": [
    "```mermaid\n",
    "    flowchart \n",
    "    id1((13)) ---\n",
    "    id2((6))\n",
    "    id1 --- id3((12))\n",
    "    id4((11))\n",
    "    id5((4))\n",
    "    id3 --- id4\n",
    "    id3 --- id5\n",
    "```"
   ]
  },
  {
   "cell_type": "markdown",
   "id": "a41f36e1-ce66-4303-8ad1-d74aeba72a70",
   "metadata": {},
   "source": [
    "In `Herb.jl`, the `HerbCore.RuleNode` is used to represent both an individual node, but also entire ASTs or sub-trees. This is achieved by nesting instances of `RuleNode`. A `RuleNode` can be instantiated by providing the index of the grammar rule that the node represents and a vector of child nodes. "
   ]
  },
  {
   "cell_type": "code",
   "execution_count": 2,
   "id": "9c61d359-1f38-410e-b654-5d36bc9a1d4e",
   "metadata": {},
   "outputs": [
    {
     "data": {
      "text/plain": [
       "13{6,12{11,4}}"
      ]
     },
     "execution_count": 2,
     "metadata": {},
     "output_type": "execute_result"
    }
   ],
   "source": [
    "syntaxtree = RuleNode(13, [RuleNode(6), RuleNode(12, [RuleNode(11), RuleNode(4)])])"
   ]
  },
  {
   "cell_type": "markdown",
   "id": "da78a5d9-038e-4d97-ab1a-32efc830c1e8",
   "metadata": {},
   "source": [
    "We can confirm that our AST is correct by displaying it in a more human-readable way, using `HerbGrammar.rulenode2expr` and by testing it on a few input examples using ???."
   ]
  },
  {
   "cell_type": "code",
   "execution_count": 3,
   "id": "7c933e57-03f8-41ac-a464-70f95b9505c0",
   "metadata": {},
   "outputs": [
    {
     "name": "stdout",
     "output_type": "stream",
     "text": [
      "5 * (x + 3)\n"
     ]
    }
   ],
   "source": [
    "program = rulenode2expr(syntaxtree, grammar)\n",
    "println(program)"
   ]
  },
  {
   "cell_type": "code",
   "execution_count": 4,
   "id": "32fbb714-25aa-40d5-9c0b-c20ba8999d0c",
   "metadata": {},
   "outputs": [
    {
     "data": {
      "text/plain": [
       "65"
      ]
     },
     "execution_count": 4,
     "metadata": {},
     "output_type": "execute_result"
    }
   ],
   "source": [
    "# test solution on inputs\n",
    "output = execute_on_input(grammar, syntaxtree, Dict(:x => 10))"
   ]
  },
  {
   "cell_type": "markdown",
   "id": "b724f97d-ae36-455c-94b8-10632beffe6e",
   "metadata": {},
   "source": [
    "## Another example: FizzBuzz\n",
    "\n",
    "Let's look at a more interesting example. \n",
    "The program `fizbuzz()` is based on the popular _FizzBuzz_ problem. Given an integer number, the program simply returns a `String` of that number, but replace numbers divisible by 3 with `\"Fizz\"`, numbers divisible by 5 with `\"Buzz\"`, and number divisible by both 3 and 5 with `\"FizzBuzz\"`."
   ]
  },
  {
   "cell_type": "code",
   "execution_count": 5,
   "id": "1f41bec4-d081-48bd-9fee-c30021d4a882",
   "metadata": {},
   "outputs": [
    {
     "data": {
      "text/plain": [
       "fizzbuzz (generic function with 1 method)"
      ]
     },
     "execution_count": 5,
     "metadata": {},
     "output_type": "execute_result"
    }
   ],
   "source": [
    "function fizzbuzz(x)\n",
    "    if x % 5 == 0 && x % 3 == 0\n",
    "        return Dict(:output1 => \"FizzBuzz\")\n",
    "    else\n",
    "        if x % 3 == 0\n",
    "            return Dict(:output1 => \"Fizz\")\n",
    "        else\n",
    "            if x % 5 == 0\n",
    "                return Dict(:output1 => \"Buzz\")\n",
    "            else\n",
    "                return Dict(:output1 => string(x))\n",
    "            end\n",
    "        end\n",
    "    end\n",
    "end"
   ]
  },
  {
   "cell_type": "markdown",
   "id": "bc5a248d-87e7-4eda-9a3a-80620da45f9c",
   "metadata": {},
   "source": [
    "### Define the grammar\n",
    "\n",
    "Let's define a grammar with all the rules that we need."
   ]
  },
  {
   "cell_type": "code",
   "execution_count": 6,
   "id": "7b0ea30c-e415-4d7e-ba2f-a1590cd4c8fe",
   "metadata": {},
   "outputs": [
    {
     "data": {
      "text/plain": [
       "1: Int = input1\n",
       "2: Int = 0\n",
       "3: Int = 3\n",
       "4: Int = 5\n",
       "5: String = Fizz\n",
       "6: String = Buzz\n",
       "7: String = FizzBuzz\n",
       "8: String = string(Int)\n",
       "9: Return = Dict(:output1 => String)\n",
       "10: Int = Int % Int\n",
       "11: Bool = Int == Int\n",
       "12: Int = if Bool\n",
       "    Int\n",
       "else\n",
       "    Int\n",
       "end\n",
       "13: Bool = Bool && Bool\n"
      ]
     },
     "execution_count": 6,
     "metadata": {},
     "output_type": "execute_result"
    }
   ],
   "source": [
    "grammar_fizzbuzz = @csgrammar begin\n",
    "    Int = input1\n",
    "    Int = 0 | 3 | 5\n",
    "    String = \"Fizz\" | \"Buzz\" | \"FizzBuzz\"\n",
    "    String = string(Int)\n",
    "    Return = Dict(:output1 => String)\n",
    "    Int = Int % Int\n",
    "    Bool = Int == Int\n",
    "    Int = Bool ? Int : Int\n",
    "    Bool = Bool && Bool\n",
    "end"
   ]
  },
  {
   "cell_type": "markdown",
   "id": "f0c06383-ce23-446e-8b9f-b323abacfbcb",
   "metadata": {},
   "source": [
    "### Construct the syntax tree"
   ]
  },
  {
   "cell_type": "markdown",
   "id": "57fc9e37-d243-49c4-9fc9-7669a3cc7e47",
   "metadata": {},
   "source": [
    "Given the grammar, the AST of `fizzbuzz()` looks like this:"
   ]
  },
  {
   "cell_type": "markdown",
   "id": "219585f5-a4b2-473a-ad98-b3ceb45e37c0",
   "metadata": {},
   "source": [
    "```mermaid\n",
    "flowchart \n",
    "    id1((12)) --- id21((13))\n",
    "    id1--- id22((9))\n",
    "    id1--- id23((12))\n",
    "\n",
    "    id21 --- id31((11))\n",
    "    id21 --- id32((11))\n",
    "\n",
    "    id31 --- id41((10))\n",
    "    id31 --- id42((2))\n",
    "\n",
    "    id41 --- id51((1))\n",
    "    id41 --- id52((4))\n",
    "\n",
    "    id32 --- id43((10)) \n",
    "    id32 --- id44((2))\n",
    "\n",
    "    id43 --- id53((1))\n",
    "    id43 --- id54((3))\n",
    "\n",
    "    id22 --- id33((7))\n",
    "    id23 --- id34((11))\n",
    "\n",
    "    id34 --- id45((10))\n",
    "    id34 --- id46((2))\n",
    "\n",
    "    id45 --- id55((1))\n",
    "    id45 --- id56((3))\n",
    "\n",
    "    id23 --- id35((9))\n",
    "    id35 --- id47((5))\n",
    "\n",
    "    id23 --- id36((12))\n",
    "    id36 --- id48((11))\n",
    "    id48 --- id57((10))\n",
    "    id57 --- id61((1))\n",
    "    id57 --- id62((4))\n",
    "    id48 --- id58((2))\n",
    "\n",
    "    id36 --- id49((9))\n",
    "    id49 --- id59((6))\n",
    "\n",
    "    id36 --- id410((9))\n",
    "    id410 --- id510((8))\n",
    "    id510 --- id63((1))\n",
    "    \n",
    "    \n",
    "    \n",
    "```"
   ]
  },
  {
   "cell_type": "markdown",
   "id": "ca814e00-95e9-4b18-971d-ca82335bcb98",
   "metadata": {},
   "source": [
    "As before, we use nest instanced of `RuleNode` to implement the AST."
   ]
  },
  {
   "cell_type": "code",
   "execution_count": 7,
   "id": "9c897ebc-4a79-45be-b349-c376bffa03df",
   "metadata": {},
   "outputs": [
    {
     "data": {
      "text/plain": [
       "12{13{11{10{1,4}2}11{10{1,3}2}}9{7}12{11{10{1,3}2}9{5}12{11{10{1,4}2}9{6}9{8{1}}}}}"
      ]
     },
     "execution_count": 7,
     "metadata": {},
     "output_type": "execute_result"
    }
   ],
   "source": [
    "fizzbuzz_syntaxtree = RuleNode(12, [\n",
    "               RuleNode(13, [\n",
    "                   RuleNode(11, [\n",
    "                       RuleNode(10, [\n",
    "                           RuleNode(1),\n",
    "                           RuleNode(4)\n",
    "                       ]),\n",
    "                       RuleNode(2)\n",
    "                   ]),\n",
    "                   RuleNode(11, [\n",
    "                       RuleNode(10, [\n",
    "                           RuleNode(1),\n",
    "                           RuleNode(3)\n",
    "                       ]),\n",
    "                       RuleNode(2)\n",
    "                   ])\n",
    "               ]),\n",
    "               RuleNode(9, [\n",
    "                   RuleNode(7)\n",
    "               \n",
    "               ]),\n",
    "               RuleNode(12, [\n",
    "                   RuleNode(11, [\n",
    "                       RuleNode(10, [\n",
    "                           RuleNode(1),\n",
    "                           RuleNode(3),\n",
    "                       ]),\n",
    "                       RuleNode(2)\n",
    "                   ]),\n",
    "                   RuleNode(9, [\n",
    "                       RuleNode(5)\n",
    "                   ]),\n",
    "                   RuleNode(12, [\n",
    "                       RuleNode(11, [\n",
    "                           RuleNode(10, [\n",
    "                               RuleNode(1),\n",
    "                               RuleNode(4)\n",
    "                           ]),\n",
    "                           RuleNode(2)\n",
    "                       ]),\n",
    "                       RuleNode(9, [\n",
    "                           RuleNode(6)\n",
    "                       ]),\n",
    "                       RuleNode(9, [\n",
    "                           RuleNode(8, [\n",
    "                                RuleNode(1)\n",
    "                            ])\n",
    "                       ])\n",
    "                   ])\n",
    "               ]) \n",
    "    ])"
   ]
  },
  {
   "cell_type": "markdown",
   "id": "ac0f888f-0376-48b2-bc68-cbbde67f650f",
   "metadata": {},
   "source": [
    "And we check our syntax tree is correct:"
   ]
  },
  {
   "cell_type": "code",
   "execution_count": 8,
   "id": "5a4ba50a-ccda-4e20-9301-051ee839fdf5",
   "metadata": {},
   "outputs": [
    {
     "name": "stdout",
     "output_type": "stream",
     "text": [
      "if input1 % 5 == 0 && input1 % 3 == 0\n",
      "    Dict(:output1 => \"FizzBuzz\")\n",
      "else\n",
      "    if input1 % 3 == 0\n",
      "        Dict(:output1 => \"Fizz\")\n",
      "    else\n",
      "        if input1 % 5 == 0\n",
      "            Dict(:output1 => \"Buzz\")\n",
      "        else\n",
      "            Dict(:output1 => string(input1))\n",
      "        end\n",
      "    end\n",
      "end\n"
     ]
    }
   ],
   "source": [
    "program = rulenode2expr(fizzbuzz_syntaxtree, grammar_fizzbuzz)\n",
    "println(program)"
   ]
  },
  {
   "cell_type": "code",
   "execution_count": 9,
   "id": "9e0b4ec1-eab1-49b9-be2d-c923098d1850",
   "metadata": {},
   "outputs": [
    {
     "data": {
      "text/plain": [
       "4-element Vector{Any}:\n",
       " Dict{QuoteNode, String}(:(:output1) => \"Fizz\")\n",
       " Dict{QuoteNode, String}(:(:output1) => \"Buzz\")\n",
       " Dict{QuoteNode, String}(:(:output1) => \"FizzBuzz\")\n",
       " Dict{QuoteNode, String}(:(:output1) => \"22\")"
      ]
     },
     "execution_count": 9,
     "metadata": {},
     "output_type": "execute_result"
    }
   ],
   "source": [
    "# test solution on inputs\n",
    "input = [Dict(:input1 => 3), Dict(:input1 => 5), Dict(:input1 =>15), Dict(:input1 => 22)]\n",
    "output = execute_on_input(grammar_fizzbuzz, fizzbuzz_syntaxtree, input)"
   ]
  },
  {
   "cell_type": "markdown",
   "id": "2cd4b5a5-f715-49e7-a3e2-dbc638af8330",
   "metadata": {},
   "source": [
    "### Modify the AST/program\n",
    "\n",
    "There are several ways to modify an AST and hence, a program. You can\n",
    "\n",
    "- directly replace a node with `HerbCore.swap_node()`\n",
    "- insert a rule node with `insert!`\n",
    "\n",
    "Let's modify our example such that if the input number is divisible by 3, the program returns \"Buzz\" instead of \"Fizz\". \n",
    "We use `swap_node()` to replace the node of the AST that corresponds to rule 5 in the grammar (`String = Fizz`) with rule 6 (`String = Buzz`). To do so, `swap_node()` needs the tree that contains the node we want to modify, the new node we want to replace the node with, and the path to that node.\n",
    "\n",
    "Note that `swap_node()` modifies the tree, hence we make a deep copy of it first."
   ]
  },
  {
   "cell_type": "code",
   "execution_count": 10,
   "id": "65bfb9cc-bbdc-46e5-8ebf-9c15c6424339",
   "metadata": {},
   "outputs": [
    {
     "data": {
      "text/plain": [
       "6,"
      ]
     },
     "execution_count": 10,
     "metadata": {},
     "output_type": "execute_result"
    }
   ],
   "source": [
    "modified_fizzbuzz_syntaxtree = deepcopy(fizzbuzz_syntaxtree)\n",
    "newnode = RuleNode(6)\n",
    "path = [3, 2, 1]\n",
    "swap_node(modified_fizzbuzz_syntaxtree, newnode, path)"
   ]
  },
  {
   "cell_type": "markdown",
   "id": "9bc85789-00de-4f54-aa80-1e2ab789750e",
   "metadata": {},
   "source": [
    "Let's confirm that we modified the AST, and hence the program, correctly:"
   ]
  },
  {
   "cell_type": "code",
   "execution_count": 11,
   "id": "742f7ee8-c088-4331-b17c-dc5a2078ca6b",
   "metadata": {},
   "outputs": [
    {
     "name": "stdout",
     "output_type": "stream",
     "text": [
      "if input1 % 5 == 0 && input1 % 3 == 0\n",
      "    Dict(:output1 => \"FizzBuzz\")\n",
      "else\n",
      "    if input1 % 3 == 0\n",
      "        Dict(:output1 => \"Buzz\")\n",
      "    else\n",
      "        if input1 % 5 == 0\n",
      "            Dict(:output1 => \"Buzz\")\n",
      "        else\n",
      "            Dict(:output1 => string(input1))\n",
      "        end\n",
      "    end\n",
      "end\n"
     ]
    }
   ],
   "source": [
    "program = rulenode2expr(modified_fizzbuzz_syntaxtree, grammar_fizzbuzz)\n",
    "println(program)"
   ]
  },
  {
   "cell_type": "code",
   "execution_count": 12,
   "id": "59d13ab2-7415-4463-89bf-e09ff55a74d8",
   "metadata": {},
   "outputs": [
    {
     "data": {
      "text/plain": [
       "4-element Vector{Any}:\n",
       " Dict{QuoteNode, String}(:(:output1) => \"Buzz\")\n",
       " Dict{QuoteNode, String}(:(:output1) => \"Buzz\")\n",
       " Dict{QuoteNode, String}(:(:output1) => \"FizzBuzz\")\n",
       " Dict{QuoteNode, String}(:(:output1) => \"22\")"
      ]
     },
     "execution_count": 12,
     "metadata": {},
     "output_type": "execute_result"
    }
   ],
   "source": [
    "# test solution on same inputs as before\n",
    "output = execute_on_input(grammar_fizzbuzz, modified_fizzbuzz_syntaxtree, input)"
   ]
  },
  {
   "cell_type": "markdown",
   "id": "550839d5-3219-4097-b015-538d84a4416f",
   "metadata": {},
   "source": [
    "An alternative way to modify the AST is by using `insert!()`. This requires to provide the location of the node that we want to as `NodeLoc`. `NodeLoc` points to a node in the tree and consists of the parent and the child index of the node.\n",
    "Again, we make a deep copy of the original AST first."
   ]
  },
  {
   "cell_type": "code",
   "execution_count": 13,
   "id": "74d04a45-1697-4bcd-a5fd-adaa4ef455ff",
   "metadata": {},
   "outputs": [
    {
     "data": {
      "text/plain": [
       "6,"
      ]
     },
     "execution_count": 13,
     "metadata": {},
     "output_type": "execute_result"
    }
   ],
   "source": [
    "modified_fizzbuzz_syntaxtree = deepcopy(fizzbuzz_syntaxtree)\n",
    "# get the node we want to modify and instantiate a NodeLoc from it.\n",
    "node = get_node_at_location(modified_fizzbuzz_syntaxtree, [3, 2, 1])\n",
    "nodeloc = NodeLoc(node, 0)\n",
    "# replace the node\n",
    "insert!(node, nodeloc, newnode)"
   ]
  },
  {
   "cell_type": "markdown",
   "id": "9f0bf320-92bd-4e64-b8ed-6ea841a91cc0",
   "metadata": {},
   "source": [
    "Again, we check that we modified the program as intended:"
   ]
  },
  {
   "cell_type": "code",
   "execution_count": 14,
   "id": "6f965fe6-f5b1-4059-911c-362f4c1731d6",
   "metadata": {},
   "outputs": [
    {
     "name": "stdout",
     "output_type": "stream",
     "text": [
      "if input1 % 5 == 0 && input1 % 3 == 0\n",
      "    Dict(:output1 => \"FizzBuzz\")\n",
      "else\n",
      "    if input1 % 3 == 0\n",
      "        Dict(:output1 => \"Buzz\")\n",
      "    else\n",
      "        if input1 % 5 == 0\n",
      "            Dict(:output1 => \"Buzz\")\n",
      "        else\n",
      "            Dict(:output1 => string(input1))\n",
      "        end\n",
      "    end\n",
      "end\n"
     ]
    }
   ],
   "source": [
    "program = rulenode2expr(modified_fizzbuzz_syntaxtree, grammar_fizzbuzz)\n",
    "println(program)"
   ]
  },
  {
   "cell_type": "code",
   "execution_count": 15,
   "id": "41395fec-9053-423b-b0fd-7089bb89c2d0",
   "metadata": {},
   "outputs": [
    {
     "data": {
      "text/plain": [
       "4-element Vector{Any}:\n",
       " Dict{QuoteNode, String}(:(:output1) => \"Buzz\")\n",
       " Dict{QuoteNode, String}(:(:output1) => \"Buzz\")\n",
       " Dict{QuoteNode, String}(:(:output1) => \"FizzBuzz\")\n",
       " Dict{QuoteNode, String}(:(:output1) => \"22\")"
      ]
     },
     "execution_count": 15,
     "metadata": {},
     "output_type": "execute_result"
    }
   ],
   "source": [
    "# test on same inputs as before\n",
    "output = execute_on_input(grammar_fizzbuzz, modified_fizzbuzz_syntaxtree, input)"
   ]
  }
 ],
 "metadata": {
  "kernelspec": {
   "display_name": "Julia 1.10.3",
   "language": "julia",
   "name": "julia-1.10"
  },
  "language_info": {
   "file_extension": ".jl",
   "mimetype": "application/julia",
   "name": "julia",
   "version": "1.10.3"
  }
 },
 "nbformat": 4,
 "nbformat_minor": 5
}
