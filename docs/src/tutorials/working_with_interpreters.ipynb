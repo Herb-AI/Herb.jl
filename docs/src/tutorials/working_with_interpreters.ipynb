{
 "cells": [
  {
   "cell_type": "markdown",
   "metadata": {},
   "source": [
    "# Using the Julia interpreter\n",
    "\n",
    "To know how good a candidate program is, program synthesisers execute them. The easiest way to execute a program is to rely on Julia itself. To leverage the Julia interpreter, you only have to ensure that your programs are valid Julia expressions. \n",
    "\n",
    "First, let's import the necessary packages"
   ]
  },
  {
   "cell_type": "code",
   "execution_count": 1,
   "metadata": {},
   "outputs": [],
   "source": [
    "using HerbGrammar, HerbInterpret"
   ]
  },
  {
   "cell_type": "markdown",
   "metadata": {},
   "source": [
    "\n",
    "Now, assume the following grammar."
   ]
  },
  {
   "cell_type": "code",
   "execution_count": 2,
   "metadata": {},
   "outputs": [
    {
     "data": {
      "text/plain": [
       "1: Number = 1\n",
       "2: Number = 2\n",
       "3: Number = x\n",
       "4: Number = Number + Number\n",
       "5: Number = Number * Number\n"
      ]
     },
     "metadata": {},
     "output_type": "display_data"
    }
   ],
   "source": [
    "g = @cfgrammar begin\n",
    "    Number = |(1:2)\n",
    "    Number = x\n",
    "    Number = Number + Number\n",
    "    Number = Number * Number\n",
    " end"
   ]
  },
  {
   "cell_type": "markdown",
   "metadata": {},
   "source": [
    "Let's construct a program `x+3`, which would correspond to the following `RuleNode` representation"
   ]
  },
  {
   "cell_type": "code",
   "execution_count": 3,
   "metadata": {},
   "outputs": [
    {
     "data": {
      "text/plain": [
       "4{3,1}"
      ]
     },
     "metadata": {},
     "output_type": "display_data"
    }
   ],
   "source": [
    "myprog = RuleNode(4,[RuleNode(3),RuleNode(1)])"
   ]
  },
  {
   "cell_type": "markdown",
   "metadata": {},
   "source": [
    "To run this program, we have to convert it into a Julia expression, which we can do in the following way:"
   ]
  },
  {
   "cell_type": "code",
   "execution_count": 4,
   "metadata": {},
   "outputs": [
    {
     "data": {
      "text/plain": [
       ":(x + 1)"
      ]
     },
     "metadata": {},
     "output_type": "display_data"
    }
   ],
   "source": [
    "myprog_julia = rulenode2expr(myprog, g)"
   ]
  },
  {
   "cell_type": "markdown",
   "metadata": {},
   "source": [
    "Now we have a valid Julia expression, but we are still missing one key ingredient: we have to inform the interpreter about the special symbols. In our case, these are `:x` and `:+`. To do so, we need to create a symbol table, which is nothing more than a dictionary mapping symbols to their values:"
   ]
  },
  {
   "cell_type": "code",
   "execution_count": 5,
   "metadata": {},
   "outputs": [
    {
     "data": {
      "text/plain": [
       "Dict{Symbol, Any} with 2 entries:\n",
       "  :+ => +\n",
       "  :x => 2"
      ]
     },
     "metadata": {},
     "output_type": "display_data"
    }
   ],
   "source": [
    "symboltable = Dict{Symbol,Any}(:x => 2, :+ => +)"
   ]
  },
  {
   "cell_type": "markdown",
   "metadata": {},
   "source": [
    "Now we can execute our program through the defaul interpreter available in `HerbInterpret`:\n"
   ]
  },
  {
   "cell_type": "code",
   "execution_count": 6,
   "metadata": {},
   "outputs": [
    {
     "data": {
      "text/plain": [
       "3"
      ]
     },
     "metadata": {},
     "output_type": "display_data"
    }
   ],
   "source": [
    "interpret(symboltable, myprog_julia)"
   ]
  },
  {
   "cell_type": "markdown",
   "metadata": {},
   "source": [
    "And that's it!"
   ]
  },
  {
   "cell_type": "markdown",
   "metadata": {},
   "source": [
    "# Defining a custom interpreter\n",
    "\n",
    "A disadvantage of the default Julia interpreter is that it needs to traverse abstract syntax tree twice -- once to convert it into a Julia expression, and the second time to execute that expression. Program execution is regularly the most consuming part of the entire pipeline and, by eliminating one of these steps, we can cut the runtime in half.\n",
    "\n",
    "We can define an interpreter that works directly over `RuleNode`s. \n",
    "Consider the scenario in which we want to write programs for robot navigation: imagine a 2D world in which the robot can move around and pick up a ball. The programs we could write direct the robot to go up, down, left, and right. For convenience, the programming language also offers conditionals and loops:"
   ]
  },
  {
   "cell_type": "code",
   "execution_count": null,
   "metadata": {},
   "outputs": [],
   "source": [
    "grammar_robots = @csgrammar begin\n",
    "    Start = Sequence                   #1\n",
    "\n",
    "    Sequence = Operation                #2\n",
    "    Sequence = (Operation; Sequence)    #3\n",
    "    Operation = Transformation          #4\n",
    "    Operation = ControlStatement        #5\n",
    "\n",
    "    Transformation = moveRight() | moveDown() | moveLeft() | moveUp() | drop() | grab()     #6\n",
    "    ControlStatement = IF(Condition, Sequence, Sequence)        #12\n",
    "    ControlStatement = WHILE(Condition, Sequence)               #13\n",
    "\n",
    "    Condition = atTop() | atBottom() | atLeft() | atRight() | notAtTop() | notAtBottom() | notAtLeft() | notAtRight()      #14\n",
    "end"
   ]
  },
  {
   "cell_type": "markdown",
   "metadata": {},
   "source": [
    "This grammar specifies a simple sequential program with instructions for the robot. A couple of example programs:\n",
    "  - `moveRight(); moveLeft(); drop()`\n",
    "  - WHILE(notAtTop(), moveUp())\n",
    "\n",
    "The idea behind this programming language is that the program specifies a set of transformations over a state of the robot world. Thus, a program can only be executed over a particular state. In this case, the state represents the size of the 2D world, the current position of a robot, the current position of a ball, and whether the robot is currently holding a ball. The execution of a particular instruction acts as a state transformation: each instruction takes a state as an input, transforms it, and passes it to the subsequent instruction. For example, execution of the program `moveRight(); moveLeft(); drop()` would proceed as:\n",
    "  1. take an input state, \n",
    "  2. pass it to the `moveRight()` instruction,\n",
    "  3. pass the output of `moveRight()` to `moveLeft()` instructions,\n",
    "  4. pass the output of `moveLeft()` to `drop()`,\n",
    "  5. return the output of `drop()`.\n",
    "\n",
    "\n",
    " The following is only one possible way to implement a custom interpreter, but it demonstrates a general template that can always be followed.\n",
    "\n",
    " We want to implement the following function, which would take in a program in the form of a `RuleNode`, a grammar, and a starting state, and return the state obtained after executing the program:\n",
    "\n",
    "        interpret(prog::AbstractRuleNode, grammar::ContextSensitiveGrammar, state::RobotState)::RobotState\n",
    "\n",
    " As `RuleNode`s only store indices of derivation rules from the grammar, not the functions themselves, we will first pull the function call associated with every derivation rule. In Julia, this is indicated by the top-level symbol of the rules. For example, the top-level symbol for the derivation rule 6 is `:moveRight`; for rule 12, that is `:IF`."
   ]
  },
  {
   "cell_type": "markdown",
   "metadata": {},
   "source": [
    "The remaining functions follow a similar idea. (You can see the full implementation of this interpreter [here](https://github.com/Herb-AI/HerbBenchmarks.jl/blob/new-robots/src/data/Robots_2020/robots_primitives.jl))."
   ]
  },
  {
   "cell_type": "code",
   "execution_count": null,
   "metadata": {},
   "outputs": [],
   "source": [
    "PLUTO_PROJECT_TOML_CONTENTS = \"\"\"\n",
    "[deps]\n",
    "HerbGrammar = \"4ef9e186-2fe5-4b24-8de7-9f7291f24af7\"\n",
    "HerbInterpret = \"5bbddadd-02c5-4713-84b8-97364418cca7\"\n",
    "\n",
    "[compat]\n",
    "HerbGrammar = \"~0.3.0\"\n",
    "HerbInterpret = \"~0.1.3\"\n",
    "\"\"\""
   ]
  }
 ],
 "metadata": {
  "kernelspec": {
   "display_name": "Julia 1.9.4",
   "language": "julia",
   "name": "julia-1.9"
  },
  "language_info": {
   "file_extension": ".jl",
   "mimetype": "application/julia",
   "name": "julia",
   "version": "1.9.4"
  }
 },
 "nbformat": 4,
 "nbformat_minor": 2
}
