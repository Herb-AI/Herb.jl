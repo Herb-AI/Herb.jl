{
 "cells": [
  {
   "attachments": {},
   "cell_type": "markdown",
   "metadata": {},
   "source": [
    "# Search\n",
    "\n",
    "This notebook describes how you can search a program space as defined by a grammar.\n",
    "Specifically, we will look at example-based search, where the goal is to find a program that is able to transform the inputs of every example to the corresponding output."
   ]
  },
  {
   "attachments": {},
   "cell_type": "markdown",
   "metadata": {},
   "source": [
    "### Setup\n",
    "First, we start with the setup. We need to access to all the function in the Herb.jl framework."
   ]
  },
  {
   "cell_type": "code",
   "execution_count": 1,
   "metadata": {},
   "outputs": [],
   "source": [
    "include(\"../../src/Herb.jl\") # these are only until we get modules going\n",
    "using ..Herb"
   ]
  },
  {
   "attachments": {},
   "cell_type": "markdown",
   "metadata": {},
   "source": [
    "### Defining the program space\n",
    "\n",
    "Next, we start by creating a grammar. We define a context-free grammar which is just a simple set of production rules for defining combinations of terminal symbols (in our case real numbers). \n",
    "\n",
    "Contrary, we could define a context-sensitive grammar, when the production rules only hold in a certain context. However, for more information on this, please see `example2_defining_grammars.ipynb`.\n",
    "\n",
    "For now, we specify a simple grammar for dealing with integers and explain all the rules individually:\n",
    "\n",
    "1. First, we specify our interval `[0:9]` on real numbers and also constrain them to be integer.\n",
    "2. Then, we can also use the variable `x` to hold an integer.\n",
    "3. The third rule determines we can add two integers.\n",
    "4. The fourth rule determines we can subtract an integer from another.\n",
    "5. Finally, we also allow the multiplication of two integers.\n",
    "\n",
    "If you run this cell, you can see all the rules rolled out."
   ]
  },
  {
   "cell_type": "code",
   "execution_count": 2,
   "metadata": {},
   "outputs": [
    {
     "data": {
      "text/plain": [
       "1: Real = 0\n",
       "2: Real = 1\n",
       "3: Real = 2\n",
       "4: Real = 3\n",
       "5: Real = 4\n",
       "6: Real = 5\n",
       "7: Real = 6\n",
       "8: Real = 7\n",
       "9: Real = 8\n",
       "10: Real = 9\n",
       "11: Real = x\n",
       "12: Real = Real + Real\n",
       "13: Real = Real - Real\n",
       "14: Real = Real * Real\n"
      ]
     },
     "metadata": {},
     "output_type": "display_data"
    }
   ],
   "source": [
    "g = Herb.HerbGrammar.@cfgrammar begin\n",
    "    Real = |(0:9)\n",
    "    Real = x\n",
    "    Real = Real + Real\n",
    "    Real = Real - Real\n",
    "    Real = Real * Real\n",
    "end"
   ]
  },
  {
   "attachments": {},
   "cell_type": "markdown",
   "metadata": {},
   "source": [
    "### Defining the problem"
   ]
  },
  {
   "attachments": {},
   "cell_type": "markdown",
   "metadata": {},
   "source": [
    "As mentioned before, we are looking at example-based search. \n",
    "This means that the problem is defined by a set of input-output examples. \n",
    "A single example hence consists of an input and an output.\n",
    "The input is defined as a dictionary, with a value assigned to each variable in the grammar.\n",
    "It is important to write the variable name as a `Symbol` instead of a string.\n",
    "A `Symbol` in Julia is written with a colon prefix, i.e. `:x`. \n",
    "The output of the input-output example is just a single value for this specific grammar, but could possibly relate to e.g. arrays of values, too.\n",
    "\n",
    "In the cell below we automatically generate some examples for `x` assigning values `1-5`."
   ]
  },
  {
   "cell_type": "code",
   "execution_count": 3,
   "metadata": {},
   "outputs": [
    {
     "data": {
      "text/plain": [
       "5-element Vector{Main.Herb.HerbData.IOExample}:\n",
       " Main.Herb.HerbData.IOExample(Dict{Symbol, Any}(:x => 1), 8)\n",
       " Main.Herb.HerbData.IOExample(Dict{Symbol, Any}(:x => 2), 11)\n",
       " Main.Herb.HerbData.IOExample(Dict{Symbol, Any}(:x => 3), 14)\n",
       " Main.Herb.HerbData.IOExample(Dict{Symbol, Any}(:x => 4), 17)\n",
       " Main.Herb.HerbData.IOExample(Dict{Symbol, Any}(:x => 5), 20)"
      ]
     },
     "metadata": {},
     "output_type": "display_data"
    }
   ],
   "source": [
    "# Create input-output examples\n",
    "examples = [Herb.HerbData.IOExample(Dict(:x => x), 3x+5) for x ∈ 1:5]"
   ]
  },
  {
   "attachments": {},
   "cell_type": "markdown",
   "metadata": {},
   "source": [
    "Now that we have some input-output examples, we can define the problem. \n",
    "Next to the examples, a problem also contains a name meant to link to the file path, which can be used to keep track of current examples. \n",
    "For now, this is irrelevant, and you can give the program any name you like."
   ]
  },
  {
   "cell_type": "code",
   "execution_count": 4,
   "metadata": {},
   "outputs": [
    {
     "data": {
      "text/plain": [
       "Main.Herb.HerbData.Problem(Main.Herb.HerbData.Example[Main.Herb.HerbData.IOExample(Dict{Symbol, Any}(:x => 1), 8), Main.Herb.HerbData.IOExample(Dict{Symbol, Any}(:x => 2), 11), Main.Herb.HerbData.IOExample(Dict{Symbol, Any}(:x => 3), 14), Main.Herb.HerbData.IOExample(Dict{Symbol, Any}(:x => 4), 17), Main.Herb.HerbData.IOExample(Dict{Symbol, Any}(:x => 5), 20)], \"example\")"
      ]
     },
     "metadata": {},
     "output_type": "display_data"
    }
   ],
   "source": [
    "problem = Herb.HerbData.Problem(examples, \"example\")"
   ]
  },
  {
   "attachments": {},
   "cell_type": "markdown",
   "metadata": {},
   "source": [
    "### Searching\n",
    "\n",
    "Now that we have defined the search space and the goal of the search, we can start the search. \n",
    "\n",
    "Of course, our problem is underdefined as there might be multiple programs that satisfy our examples. \n",
    "Let us consider the case where we also have a ternary if-then-else operator and standard boolean operators in our grammar: we could synthesize the program `x ≤ 5 ? 3x+5 : 0`. \n",
    "This program satisfies all our examples, but we don't expect it to generalize very well.\n",
    "\n",
    "In general, we assume that a smaller program is more general than a larger program. \n",
    "Therefore, we search for the smallest program in our grammar that satisfies our examples. \n",
    "This can be done using a breadth-first search over the program/search space.\n",
    "\n",
    "This search is very basic; it makes use of an enumeration technique, where we enumerate programs one-by-one until we find a program that matches our examples. The search procedure has a built-in default evaluator to verify the candidate programs with the given input. The search procedure also has a built-in search procedure using breadth-first search. \n",
    "\n",
    "So, we only need to give our grammar and the problem to our search procedure, along with a starting `Symbol`, in our case a `Real`."
   ]
  },
  {
   "cell_type": "code",
   "execution_count": 5,
   "metadata": {},
   "outputs": [
    {
     "data": {
      "text/plain": [
       ":(x * 3 + 5)"
      ]
     },
     "metadata": {},
     "output_type": "display_data"
    }
   ],
   "source": [
    "Herb.HerbSearch.search(g, problem, :Real)"
   ]
  },
  {
   "attachments": {},
   "cell_type": "markdown",
   "metadata": {},
   "source": [
    "As you can see, the search procedure found the correct program!"
   ]
  },
  {
   "cell_type": "markdown",
   "metadata": {},
   "source": []
  },
  {
   "attachments": {},
   "cell_type": "markdown",
   "metadata": {},
   "source": [
    "### Defining the search procedure\n",
    "\n",
    "In the previous case, we used the built-ins of the search procedure. However, we can also give a custom enumerator to the search procedure and define a few more values.\n",
    "\n",
    "We first define a new problem to test with, we are looking for the programs that can compute the value`167`. We immediately pass the examples to the problem and then set up the new search.\n",
    "\n",
    "Search is done by passing the grammar, the problem and the starting point like before. We now also specify the enumeration function to be used, and now we use depth-first search. Then, we give the maximum depth of the programs we want to search for `(3)`, the maximum number of nodes in the Abstract Syntax Tree that exists during search `(10)`, and the maximum time in seconds allowed for the search."
   ]
  },
  {
   "cell_type": "code",
   "execution_count": 7,
   "metadata": {},
   "outputs": [
    {
     "name": "stdout",
     "output_type": "stream",
     "text": [
      "nothing"
     ]
    }
   ],
   "source": [
    "problem = Herb.HerbData.Problem([Herb.HerbData.IOExample(Dict(:x => x), 168) for x ∈ 1:5], \"example2\")\n",
    "expr = Herb.HerbSearch.search(g, problem, :Real, enumerator=Herb.HerbSearch.get_dfs_enumerator, max_depth=4, max_size=30, max_time=180)\n",
    "print(expr)"
   ]
  },
  {
   "attachments": {},
   "cell_type": "markdown",
   "metadata": {},
   "source": [
    "We see that our synthesizer can find a program to construct the value `168`, though a fun experiment would be trying to get the value `167`, what do you think would happen? If you want you can try below.\n",
    "\n",
    "In any case, this concludes our first introduction to the `Herb.jl` program synthesis framework. You can see more examples in this repository, or explore yourself. Enjoy!"
   ]
  },
  {
   "cell_type": "code",
   "execution_count": null,
   "metadata": {},
   "outputs": [],
   "source": [
    "problem = Herb.HerbData.Problem([Herb.HerbData.IOExample(Dict(:x => x), 167) for x ∈ 1:5], \"example2\")\n",
    "expr = Herb.HerbSearch.search(g, problem, :Real)\n",
    "print(expr)"
   ]
  }
 ],
 "metadata": {
  "kernelspec": {
   "display_name": "Julia 1.8.5",
   "language": "julia",
   "name": "julia-1.8"
  },
  "language_info": {
   "file_extension": ".jl",
   "mimetype": "application/julia",
   "name": "julia",
   "version": "1.8.5"
  }
 },
 "nbformat": 4,
 "nbformat_minor": 4
}
