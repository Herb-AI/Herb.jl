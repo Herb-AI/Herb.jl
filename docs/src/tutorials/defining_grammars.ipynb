{
 "cells": [
  {
   "cell_type": "markdown",
   "metadata": {},
   "source": [
    "# Defining Grammars in Herb.jl using HerbGrammar\n",
    "\n",
    "The program space in Herb.jl is defined using a grammar. \n",
    "This notebook demonstrates how such a grammar can be created. \n",
    "There are multiple kinds of grammars, but they can all be defined in a very similar way."
   ]
  },
  {
   "cell_type": "markdown",
   "metadata": {},
   "source": [
    "### Setup\n",
    "First, we import the necessary Herb packages."
   ]
  },
  {
   "cell_type": "code",
   "execution_count": 73,
   "metadata": {},
   "outputs": [],
   "source": [
    "using HerbGrammar, HerbConstraints"
   ]
  },
  {
   "attachments": {},
   "cell_type": "markdown",
   "metadata": {},
   "source": [
    "### Creating a simple grammar\n",
    "\n",
    "This cell contains a very simple arithmetic grammar. \n",
    "The grammar is defined using the `@cfgrammar` macro. \n",
    "This macro converts the grammar definition in the form of a Julia expression into Herb's internal grammar representation. \n",
    "Macro's are executed during compilation.\n",
    "If you want to load a grammar during execution, have a look at the `HerbGrammar.expr2cfgrammar` function."
   ]
  },
  {
   "cell_type": "code",
   "execution_count": 74,
   "metadata": {},
   "outputs": [
    {
     "data": {
      "text/plain": [
       "1: Int = 1\n",
       "2: Int = 2\n",
       "3: Int = 3\n",
       "4: Int = Int * Int\n",
       "5: Int = Int + Int\n"
      ]
     },
     "metadata": {},
     "output_type": "display_data"
    }
   ],
   "source": [
    "g₁ = HerbGrammar.@cfgrammar begin\n",
    "    Int = 1\n",
    "    Int = 2\n",
    "    Int = 3\n",
    "    Int = Int * Int\n",
    "    Int = Int + Int\n",
    "end"
   ]
  },
  {
   "attachments": {},
   "cell_type": "markdown",
   "metadata": {},
   "source": [
    "Defining every integer one-by-one can be quite tedious. Therefore, it is also possible to use the following syntax that makes use of a Julia iterator:"
   ]
  },
  {
   "cell_type": "code",
   "execution_count": 75,
   "metadata": {},
   "outputs": [
    {
     "data": {
      "text/plain": [
       "1: Int = 0\n",
       "2: Int = 1\n",
       "3: Int = 2\n",
       "4: Int = 3\n",
       "5: Int = 4\n",
       "6: Int = 5\n",
       "7: Int = 6\n",
       "8: Int = 7\n",
       "9: Int = 8\n",
       "10: Int = 9\n",
       "11: Int = Int * Int\n",
       "12: Int = Int + Int\n"
      ]
     },
     "metadata": {},
     "output_type": "display_data"
    }
   ],
   "source": [
    "g₂ = HerbGrammar.@cfgrammar begin\n",
    "    Int = |(0:9)\n",
    "    Int = Int * Int\n",
    "    Int = Int + Int\n",
    "end"
   ]
  },
  {
   "cell_type": "markdown",
   "metadata": {},
   "source": [
    "You can do the same with lists:"
   ]
  },
  {
   "cell_type": "code",
   "execution_count": 76,
   "metadata": {},
   "outputs": [
    {
     "data": {
      "text/plain": [
       "1: Int = 0\n",
       "2: Int = 2\n",
       "3: Int = 4\n",
       "4: Int = 6\n",
       "5: Int = 8\n",
       "6: Int = Int * Int\n",
       "7: Int = Int + Int\n"
      ]
     },
     "metadata": {},
     "output_type": "display_data"
    }
   ],
   "source": [
    "g₃ = HerbGrammar.@cfgrammar begin\n",
    "    Int = |([0, 2, 4, 6, 8])\n",
    "    Int = Int * Int\n",
    "    Int = Int + Int\n",
    "end"
   ]
  },
  {
   "cell_type": "markdown",
   "metadata": {},
   "source": [
    "Variables can also be added to the grammar by just using the variable name:"
   ]
  },
  {
   "cell_type": "code",
   "execution_count": 77,
   "metadata": {},
   "outputs": [
    {
     "data": {
      "text/plain": [
       "1: Int = 0\n",
       "2: Int = 1\n",
       "3: Int = 2\n",
       "4: Int = 3\n",
       "5: Int = 4\n",
       "6: Int = 5\n",
       "7: Int = 6\n",
       "8: Int = 7\n",
       "9: Int = 8\n",
       "10: Int = 9\n",
       "11: Int = Int * Int\n",
       "12: Int = Int + Int\n",
       "13: Int = x\n"
      ]
     },
     "metadata": {},
     "output_type": "display_data"
    }
   ],
   "source": [
    "g₄ = HerbGrammar.@cfgrammar begin\n",
    "    Int = |(0:9)\n",
    "    Int = Int * Int\n",
    "    Int = Int + Int\n",
    "    Int = x\n",
    "end"
   ]
  },
  {
   "cell_type": "markdown",
   "metadata": {},
   "source": [
    "Grammars can also work with functions. \n",
    "After all, `+` and `*` are just infix operators for Julia's identically-named functions.\n",
    "You can use functions that are provided by Julia, or functions that you wrote yourself:"
   ]
  },
  {
   "cell_type": "code",
   "execution_count": 78,
   "metadata": {},
   "outputs": [
    {
     "data": {
      "text/plain": [
       "1: Int = 0\n",
       "2: Int = 1\n",
       "3: Int = 2\n",
       "4: Int = 3\n",
       "5: Int = 4\n",
       "6: Int = 5\n",
       "7: Int = 6\n",
       "8: Int = 7\n",
       "9: Int = 8\n",
       "10: Int = 9\n",
       "11: Int = Int * Int\n",
       "12: Int = Int + Int\n",
       "13: Int = f(Int)\n",
       "14: Int = x\n"
      ]
     },
     "metadata": {},
     "output_type": "display_data"
    }
   ],
   "source": [
    "f(a) = a + 1\n",
    "\n",
    "g₅ = HerbGrammar.@cfgrammar begin\n",
    "    Int = |(0:9)\n",
    "    Int = Int * Int\n",
    "    Int = Int + Int\n",
    "    Int = f(Int)\n",
    "    Int = x\n",
    "end"
   ]
  },
  {
   "attachments": {},
   "cell_type": "markdown",
   "metadata": {},
   "source": [
    "Similarly, we can also define the operator times (x) manually."
   ]
  },
  {
   "cell_type": "code",
   "execution_count": 79,
   "metadata": {},
   "outputs": [
    {
     "data": {
      "text/plain": [
       "1: Int = 0\n",
       "2: Int = 1\n",
       "3: Int = 2\n",
       "4: Int = 3\n",
       "5: Int = 4\n",
       "6: Int = 5\n",
       "7: Int = 6\n",
       "8: Int = 7\n",
       "9: Int = 8\n",
       "10: Int = 9\n",
       "11: Int = a\n",
       "12: Int = Int + Int\n",
       "13: Int = Int × Int\n"
      ]
     },
     "metadata": {},
     "output_type": "display_data"
    }
   ],
   "source": [
    "×(a, b) = a * b\n",
    "\n",
    "g₆ = HerbGrammar.@cfgrammar begin\n",
    "    Int = |(0:9)\n",
    "    Int = a\n",
    "    Int = Int + Int\n",
    "    Int = Int × Int\n",
    "end"
   ]
  },
  {
   "attachments": {},
   "cell_type": "markdown",
   "metadata": {},
   "source": [
    "### Working with grammars\n",
    "\n",
    "If you want to implement something using these grammars, it is useful to know about the functions that you can use to manipulate grammars and extract information. \n",
    "This section is not necessarily complete, but it aims to give an overview of the most important functions. \n",
    "\n",
    "It is recommended to also read up on [Julia metaprogramming](https://docs.julialang.org/en/v1/manual/metaprogramming/) if you are not already familiar with that.\n",
    "\n",
    "One of the most important things about grammars is that each rule has an index associated with it:"
   ]
  },
  {
   "cell_type": "code",
   "execution_count": 80,
   "metadata": {},
   "outputs": [
    {
     "data": {
      "text/plain": [
       "13-element Vector{Tuple{Int64, Any}}:\n",
       " (1, 0)\n",
       " (2, 1)\n",
       " (3, 2)\n",
       " (4, 3)\n",
       " (5, 4)\n",
       " (6, 5)\n",
       " (7, 6)\n",
       " (8, 7)\n",
       " (9, 8)\n",
       " (10, 9)\n",
       " (11, :(Int + Int))\n",
       " (12, :(Int * Int))\n",
       " (13, :x)"
      ]
     },
     "metadata": {},
     "output_type": "display_data"
    }
   ],
   "source": [
    "g₇ = HerbGrammar.@cfgrammar begin\n",
    "    Int = |(0:9)\n",
    "    Int = Int + Int\n",
    "    Int = Int * Int\n",
    "    Int = x\n",
    "end\n",
    "\n",
    "collect(enumerate(g₇.rules))"
   ]
  },
  {
   "cell_type": "markdown",
   "metadata": {},
   "source": [
    "We can use this index to extract information from the grammar."
   ]
  },
  {
   "cell_type": "markdown",
   "metadata": {},
   "source": [
    "### isterminal\n",
    "\n",
    "`isterminal` returns `true` if a rule is terminal, i.e. it cannot be expanded. For example, rule 1 is terminal, but rule 11 is not, since it contains the non-terminal symbol `:Int`. "
   ]
  },
  {
   "cell_type": "code",
   "execution_count": 81,
   "metadata": {},
   "outputs": [
    {
     "data": {
      "text/plain": [
       "true"
      ]
     },
     "metadata": {},
     "output_type": "display_data"
    }
   ],
   "source": [
    "HerbGrammar.isterminal(g₇, 1)"
   ]
  },
  {
   "cell_type": "code",
   "execution_count": 82,
   "metadata": {},
   "outputs": [
    {
     "data": {
      "text/plain": [
       "false"
      ]
     },
     "metadata": {},
     "output_type": "display_data"
    }
   ],
   "source": [
    "HerbGrammar.isterminal(g₇, 11)"
   ]
  },
  {
   "cell_type": "markdown",
   "metadata": {},
   "source": [
    "### return_type\n",
    "\n",
    "This function is rather obvious; it returns the non-terminal symbol that corresponds to a certain rule. The return type for all rules in our grammar is `:Int`."
   ]
  },
  {
   "cell_type": "code",
   "execution_count": 83,
   "metadata": {},
   "outputs": [
    {
     "data": {
      "text/plain": [
       ":Int"
      ]
     },
     "metadata": {},
     "output_type": "display_data"
    }
   ],
   "source": [
    "HerbGrammar.return_type(g₇, 11)"
   ]
  },
  {
   "cell_type": "markdown",
   "metadata": {},
   "source": [
    "### child_types\n",
    "\n",
    "`child_types` returns the types of the nonterminal children of a rule in a vector.\n",
    "If you just want to know how many children a rule has, and not necessarily which types they have, you can use `nchildren`"
   ]
  },
  {
   "cell_type": "code",
   "execution_count": 84,
   "metadata": {},
   "outputs": [
    {
     "data": {
      "text/plain": [
       "2-element Vector{Symbol}:\n",
       " :Int\n",
       " :Int"
      ]
     },
     "metadata": {},
     "output_type": "display_data"
    }
   ],
   "source": [
    "HerbGrammar.child_types(g₇, 11)"
   ]
  },
  {
   "cell_type": "code",
   "execution_count": 85,
   "metadata": {},
   "outputs": [
    {
     "data": {
      "text/plain": [
       "2"
      ]
     },
     "metadata": {},
     "output_type": "display_data"
    }
   ],
   "source": [
    "HerbGrammar.nchildren(g₇, 11)"
   ]
  },
  {
   "cell_type": "markdown",
   "metadata": {},
   "source": [
    "### nonterminals\n",
    "\n",
    "The `nonterminals` function can be used to obtain a list of all nonterminals in the grammar."
   ]
  },
  {
   "cell_type": "code",
   "execution_count": 86,
   "metadata": {},
   "outputs": [
    {
     "data": {
      "text/plain": [
       "1-element Vector{Symbol}:\n",
       " :Int"
      ]
     },
     "metadata": {},
     "output_type": "display_data"
    }
   ],
   "source": [
    "HerbGrammar.nonterminals(g₇)"
   ]
  },
  {
   "cell_type": "markdown",
   "metadata": {},
   "source": [
    "### Adding rules\n",
    "\n",
    "It is also possible to add rules to a grammar during execution. This can be done using the `add_rule!` function.\n",
    "As with most functions in Julia that end with an exclamation mark, this function modifies its argument (the grammar).\n",
    "\n",
    "A rule can be provided in the same syntax as is used in the grammar definition.\n",
    "The rule should be of the `Expr` type, which is a built-in type for representing expressions. \n",
    "An easy way of creating `Expr` values in Julia is to encapsulate it in brackets and use a colon as prefix:"
   ]
  },
  {
   "cell_type": "code",
   "execution_count": 87,
   "metadata": {},
   "outputs": [
    {
     "data": {
      "text/plain": [
       "1: Int = 0\n",
       "2: Int = 1\n",
       "3: Int = 2\n",
       "4: Int = 3\n",
       "5: Int = 4\n",
       "6: Int = 5\n",
       "7: Int = 6\n",
       "8: Int = 7\n",
       "9: Int = 8\n",
       "10: Int = 9\n",
       "11: Int = Int + Int\n",
       "12: Int = Int * Int\n",
       "13: Int = x\n",
       "14: Int = Int - Int\n"
      ]
     },
     "metadata": {},
     "output_type": "display_data"
    }
   ],
   "source": [
    "HerbGrammar.add_rule!(g₇, :(Int = Int - Int))"
   ]
  },
  {
   "cell_type": "markdown",
   "metadata": {},
   "source": [
    "### Removing rules\n",
    "\n",
    "It is also possible to remove rules in Herb.jl, however, this is a bit more involved. \n",
    "As said before, rules have an index associated with them. \n",
    "The internal representation of programs that are defined by the grammar makes use of those indices for efficiency.\n",
    "Blindly removing a rule would shift the indices of other rules, and this could mean that existing programs get a different meaning or become invalid. \n",
    "\n",
    "Therefore, there are two functions for removing rules:\n",
    "\n",
    "- `remove_rule!` removes a rule from the grammar, but fills its place with a placeholder. Therefore, the indices stay the same, and only programs that use the removed rule become invalid.\n",
    "- `cleanup_removed_rules!` removes all placeholders and shifts the indices of the other rules.\n"
   ]
  },
  {
   "cell_type": "code",
   "execution_count": 88,
   "metadata": {},
   "outputs": [
    {
     "data": {
      "text/plain": [
       "1: Int = 0\n",
       "2: Int = 1\n",
       "3: Int = 2\n",
       "4: Int = 3\n",
       "5: Int = 4\n",
       "6: Int = 5\n",
       "7: Int = 6\n",
       "8: Int = 7\n",
       "9: Int = 8\n",
       "10: Int = 9\n",
       "11: nothing = nothing\n",
       "12: Int = Int * Int\n",
       "13: Int = x\n",
       "14: Int = Int - Int\n"
      ]
     },
     "metadata": {},
     "output_type": "display_data"
    }
   ],
   "source": [
    "HerbGrammar.remove_rule!(g₇, 11)"
   ]
  },
  {
   "cell_type": "code",
   "execution_count": 89,
   "metadata": {},
   "outputs": [
    {
     "data": {
      "text/plain": [
       "1: Int = 0\n",
       "2: Int = 1\n",
       "3: Int = 2\n",
       "4: Int = 3\n",
       "5: Int = 4\n",
       "6: Int = 5\n",
       "7: Int = 6\n",
       "8: Int = 7\n",
       "9: Int = 8\n",
       "10: Int = 9\n",
       "11: Int = Int * Int\n",
       "12: Int = x\n",
       "13: Int = Int - Int\n"
      ]
     },
     "metadata": {},
     "output_type": "display_data"
    }
   ],
   "source": [
    "HerbGrammar.cleanup_removed_rules!(g₇)"
   ]
  },
  {
   "attachments": {},
   "cell_type": "markdown",
   "metadata": {},
   "source": [
    "## Context-sensitive grammars\n",
    "\n",
    "Context-sensitive grammars allow additional constraints to be added with respect to context-free grammars.\n",
    "The syntax for defining a context-sensitive grammar is identical to defining a context-sensitive grammar:"
   ]
  },
  {
   "cell_type": "code",
   "execution_count": 90,
   "metadata": {},
   "outputs": [
    {
     "data": {
      "text/plain": [
       "1: Int = 0\n",
       "2: Int = 1\n",
       "3: Int = 2\n",
       "4: Int = 3\n",
       "5: Int = 4\n",
       "6: Int = 5\n",
       "7: Int = 6\n",
       "8: Int = 7\n",
       "9: Int = 8\n",
       "10: Int = 9\n",
       "11: Int = Int + Int\n",
       "12: Int = Int * Int\n",
       "13: Int = x\n"
      ]
     },
     "metadata": {},
     "output_type": "display_data"
    }
   ],
   "source": [
    "g₈ = HerbGrammar.@csgrammar begin\n",
    "    Int = |(0:9)\n",
    "    Int = Int + Int\n",
    "    Int = Int * Int\n",
    "    Int = x\n",
    "end"
   ]
  },
  {
   "cell_type": "markdown",
   "metadata": {},
   "source": [
    "Constraints can be added using the `addconstraint!` function, which takes a context-sensitive grammar and a constraint and adds the constraint to the grammar.\n",
    "Currently, Herb.jl only has propagators constraints. \n",
    "These constraints each have a corresponding `propagate` function that removes all options that violate that constraint from the domain. \n",
    "At the moment, there are three propagator constraints:\n",
    "\n",
    "- `ComesAfter(rule, predecessors)`: It is only possible to use rule `rule` when `predecessors` are in its path to the root.\n",
    "- `Forbidden(sequence)`: Forbids the derivation specified as a path in an expression tree.\n",
    "- `Ordered(order)`: Rules have to be used in the specified order. That is, rule at index K can only be used if rules at indices `[1...K-1]` are used in the left subtree of the current expression.\n",
    "\n",
    "Below, an example is given of a context-sensitive grammar with a `ComesAfter` constraint:"
   ]
  },
  {
   "cell_type": "code",
   "execution_count": 91,
   "metadata": {},
   "outputs": [
    {
     "data": {
      "text/plain": [
       "1-element Vector{HerbCore.Constraint}:\n",
       " ComesAfter(1, [9])"
      ]
     },
     "metadata": {},
     "output_type": "display_data"
    }
   ],
   "source": [
    "HerbGrammar.addconstraint!(g₈, HerbConstraints.ComesAfter(1, [9]))"
   ]
  },
  {
   "cell_type": "markdown",
   "metadata": {},
   "source": [
    "### Probabilistic grammars\n",
    "\n",
    "Herb.jl also supports probabilistic grammars. \n",
    "These grammars allow the user to assign a probability to each rule in the grammar.\n",
    "A probabilistic grammar can be defined in a very similar way to a standard grammar, but has some slightly different syntax:"
   ]
  },
  {
   "cell_type": "code",
   "execution_count": 92,
   "metadata": {},
   "outputs": [
    {
     "name": "stdout",
     "output_type": "stream",
     "text": [
      "0.07692307692307693 : 1\n",
      "0.07692307692307693 : 2\n",
      "0.07692307692307693 : 3\n",
      "0.07692307692307693 : 4\n",
      "0.07692307692307693 : 5\n",
      "0.07692307692307693 : 6\n",
      "0.07692307692307693 : 7\n"
     ]
    },
    {
     "name": "stderr",
     "output_type": "stream",
     "text": [
      "┌ Warning: Requesting probability in a non-probabilistic grammar.\n",
      "│ Uniform distribution is assumed.\n",
      "└ @ HerbGrammar /Users/issahanou/.julia/packages/HerbGrammar/x0E9w/src/grammar_base.jl:155\n",
      "┌ Warning: Requesting probability in a non-probabilistic grammar.\n",
      "│ Uniform distribution is assumed.\n",
      "└ @ HerbGrammar /Users/issahanou/.julia/packages/HerbGrammar/x0E9w/src/grammar_base.jl:155\n",
      "┌ Warning: Requesting probability in a non-probabilistic grammar.\n",
      "│ Uniform distribution is assumed.\n",
      "└ @ HerbGrammar /Users/issahanou/.julia/packages/HerbGrammar/x0E9w/src/grammar_base.jl:155\n",
      "┌ Warning: Requesting probability in a non-probabilistic grammar.\n",
      "│ Uniform distribution is assumed.\n",
      "└ @ HerbGrammar /Users/issahanou/.julia/packages/HerbGrammar/x0E9w/src/grammar_base.jl:155\n",
      "┌ Warning: Requesting probability in a non-probabilistic grammar.\n",
      "│ Uniform distribution is assumed.\n",
      "└ @ HerbGrammar /Users/issahanou/.julia/packages/HerbGrammar/x0E9w/src/grammar_base.jl:155\n",
      "┌ Warning: Requesting probability in a non-probabilistic grammar.\n",
      "│ Uniform distribution is assumed.\n",
      "└ @ HerbGrammar /Users/issahanou/.julia/packages/HerbGrammar/x0E9w/src/grammar_base.jl:155\n",
      "┌ Warning: Requesting probability in a non-probabilistic grammar.\n",
      "│ Uniform distribution is assumed.\n",
      "└ @ HerbGrammar /Users/issahanou/.julia/packages/HerbGrammar/x0E9w/src/grammar_base.jl:155\n"
     ]
    }
   ],
   "source": [
    "g₉ = HerbGrammar.@pcfgrammar begin\n",
    "    0.4 : Int = |(0:9)\n",
    "    0.2 : Int = Int + Int\n",
    "    0.1 : Int = Int * Int\n",
    "    0.3 : Int = x\n",
    "end\n",
    "\n",
    "for r ∈ 1:length(g₃.rules)\n",
    "    p = HerbGrammar.probability(g₈, r)\n",
    "\n",
    "    println(\"$p : $r\")\n",
    "end"
   ]
  },
  {
   "attachments": {},
   "cell_type": "markdown",
   "metadata": {},
   "source": [
    "The numbers before each rule represent the probability assigned to that rule.\n",
    "The total probability for each return type should add up to 1.0.\n",
    "If this isn't the case, Herb.jl will normalize the probabilities.\n",
    "\n",
    "If a single line in the grammar definition represents multiple rules, such as `0.4 : Int = |(0:9)`, the probability will be evenly divided over all these rules."
   ]
  },
  {
   "attachments": {},
   "cell_type": "markdown",
   "metadata": {},
   "source": [
    "## File writing\n",
    "\n",
    "### Saving & loading context-free grammars\n",
    "\n",
    "If you want to store a grammar on the disk, you can use the `store_cfg`, `read_cfg` and functions to store and read grammars respectively. \n",
    "The `store_cfg` grammar can also be used to store probabilistic grammars. Reading probabilistic grammars can be done using `read_pcfg`.\n",
    "The stored grammar files can also be opened using a text editor to be modified, as long as the contents of the file doesn't violate the syntax for defining grammars."
   ]
  },
  {
   "cell_type": "code",
   "execution_count": 93,
   "metadata": {},
   "outputs": [],
   "source": [
    "HerbGrammar.store_cfg(\"demo.txt\", g₇)"
   ]
  },
  {
   "cell_type": "code",
   "execution_count": 94,
   "metadata": {
    "scrolled": false
   },
   "outputs": [
    {
     "data": {
      "text/plain": [
       "1: Int = 0\n",
       "2: Int = 1\n",
       "3: Int = 2\n",
       "4: Int = 3\n",
       "5: Int = 4\n",
       "6: Int = 5\n",
       "7: Int = 6\n",
       "8: Int = 7\n",
       "9: Int = 8\n",
       "10: Int = 9\n",
       "11: Int = Int * Int\n",
       "12: Int = x\n",
       "13: Int = Int - Int\n"
      ]
     },
     "metadata": {},
     "output_type": "display_data"
    }
   ],
   "source": [
    "HerbGrammar.read_cfg(\"demo.txt\")"
   ]
  },
  {
   "cell_type": "markdown",
   "metadata": {},
   "source": [
    "### Saving & loading context-sensitive grammars\n",
    "\n",
    "Saving and loading context-sensitive grammars is very similar to how it is done with context-free grammars.\n",
    "The only difference is that an additional file is created for the constraints. \n",
    "The file that contains the grammars can be edited and can also be read using the reader for context-free grammars.\n",
    "The file that contains the constraints cannot be edited."
   ]
  },
  {
   "cell_type": "code",
   "execution_count": 95,
   "metadata": {},
   "outputs": [
    {
     "data": {
      "text/plain": [
       "(1: Int = 0\n",
       "2: Int = 1\n",
       "3: Int = 2\n",
       "4: Int = 3\n",
       "5: Int = 4\n",
       "6: Int = 5\n",
       "7: Int = 6\n",
       "8: Int = 7\n",
       "9: Int = 8\n",
       "10: Int = 9\n",
       "11: Int = Int + Int\n",
       "12: Int = Int * Int\n",
       "13: Int = x\n",
       ", HerbCore.Constraint[ComesAfter(1, [9])])"
      ]
     },
     "metadata": {},
     "output_type": "display_data"
    }
   ],
   "source": [
    "HerbGrammar.store_csg(\"demo.grammar\", \"demo.constraints\", g₈)\n",
    "g₈, g₈.constraints"
   ]
  },
  {
   "cell_type": "code",
   "execution_count": 96,
   "metadata": {},
   "outputs": [
    {
     "data": {
      "text/plain": [
       "(1: Int = 0\n",
       "2: Int = 1\n",
       "3: Int = 2\n",
       "4: Int = 3\n",
       "5: Int = 4\n",
       "6: Int = 5\n",
       "7: Int = 6\n",
       "8: Int = 7\n",
       "9: Int = 8\n",
       "10: Int = 9\n",
       "11: Int = Int + Int\n",
       "12: Int = Int * Int\n",
       "13: Int = x\n",
       ", HerbCore.Constraint[ComesAfter(1, [9])])"
      ]
     },
     "metadata": {},
     "output_type": "display_data"
    }
   ],
   "source": [
    "g₉ = HerbGrammar.read_csg(\"demo.grammar\", \"demo.constraints\")\n",
    "g₉, g₉.constraints"
   ]
  }
 ],
 "metadata": {
  "kernelspec": {
   "display_name": "Julia 1.9.4",
   "language": "julia",
   "name": "julia-1.9"
  },
  "language_info": {
   "file_extension": ".jl",
   "mimetype": "application/julia",
   "name": "julia",
   "version": "1.9.4"
  }
 },
 "nbformat": 4,
 "nbformat_minor": 4
}
